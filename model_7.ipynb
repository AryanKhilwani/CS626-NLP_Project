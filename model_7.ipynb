{
 "cells": [
  {
   "cell_type": "code",
   "execution_count": 2,
   "metadata": {},
   "outputs": [
    {
     "name": "stdout",
     "output_type": "stream",
     "text": [
      "DatasetDict({\n",
      "    train: Dataset({\n",
      "        features: ['text', 'labels', 'id'],\n",
      "        num_rows: 43410\n",
      "    })\n",
      "    validation: Dataset({\n",
      "        features: ['text', 'labels', 'id'],\n",
      "        num_rows: 5426\n",
      "    })\n",
      "    test: Dataset({\n",
      "        features: ['text', 'labels', 'id'],\n",
      "        num_rows: 5427\n",
      "    })\n",
      "})\n"
     ]
    },
    {
     "name": "stderr",
     "output_type": "stream",
     "text": [
      "Some weights of BertForSequenceClassification were not initialized from the model checkpoint at bert-base-uncased and are newly initialized: ['classifier.bias', 'classifier.weight']\n",
      "You should probably TRAIN this model on a down-stream task to be able to use it for predictions and inference.\n",
      "Epoch 0: 100%|██████████| 1357/1357 [1:58:34<00:00,  5.24s/it, loss=0.0833]   "
     ]
    },
    {
     "name": "stdout",
     "output_type": "stream",
     "text": [
      "Epoch 0 Loss: 0.12458196861083312\n"
     ]
    },
    {
     "name": "stderr",
     "output_type": "stream",
     "text": [
      "\n"
     ]
    }
   ],
   "source": [
    "from datasets import load_dataset\n",
    "from transformers import BertTokenizer, BertForSequenceClassification\n",
    "from torch.utils.data import DataLoader\n",
    "from transformers import AdamW\n",
    "from torch.optim import lr_scheduler\n",
    "import torch\n",
    "import torch.nn as nn\n",
    "from tqdm import tqdm\n",
    "import numpy as np\n",
    "from sklearn.metrics import f1_score, precision_score, recall_score\n",
    "\n",
    "\n",
    "\n",
    "# Load GoEmotions dataset\n",
    "dataset = load_dataset(\"go_emotions\")\n",
    "\n",
    "# Check dataset structure\n",
    "print(dataset)\n",
    "\n",
    "# Load BERT tokenizer\n",
    "tokenizer = BertTokenizer.from_pretrained(\"bert-base-uncased\")\n",
    "\n",
    "# Tokenize the dataset\n",
    "def tokenize_function(examples):\n",
    "    return tokenizer(\n",
    "        examples[\"text\"],\n",
    "        padding=\"max_length\",\n",
    "        truncation=True,\n",
    "        max_length=128,\n",
    "        return_tensors=\"pt\",\n",
    "    )\n",
    "\n",
    "tokenized_datasets = dataset.map(tokenize_function, batched=True)\n",
    "# def map_labels_to_7(examples):\n",
    "#     # Project 28 labels to 7 categories\n",
    "#     new_labels = [0] * 7\n",
    "#     for label in examples[\"labels\"]:\n",
    "#         new_labels[label_projection[label]] = 1\n",
    "#     return {\"labels\": new_labels}\n",
    "\n",
    "# Convert labels to multi-label format\n",
    "tokenized_datasets = tokenized_datasets.map(lambda x: {\"labels\": [1 if i in x[\"labels\"] else 0 for i in range(28)]})\n",
    "tokenized_datasets.set_format(\n",
    "    type=\"torch\",\n",
    "    columns=[\"input_ids\", \"attention_mask\", \"labels\"],\n",
    ")\n",
    "\n",
    "\n",
    "# Prepare train, validation, and test datasets\n",
    "train_dataset = tokenized_datasets[\"train\"]\n",
    "val_dataset = tokenized_datasets[\"validation\"]\n",
    "test_dataset = tokenized_datasets[\"test\"]\n",
    "\n",
    "# Load pre-trained BERT model\n",
    "model = BertForSequenceClassification.from_pretrained(\n",
    "    \"bert-base-uncased\",\n",
    "    num_labels=28,  # GoEmotions has 28 emotion labels\n",
    "    problem_type=\"multi_label_classification\"\n",
    ")\n",
    "\n",
    "# Optimizer\n",
    "optimizer = AdamW(model.parameters(), lr=5e-5)\n",
    "\n",
    "# Scheduler\n",
    "scheduler = lr_scheduler.StepLR(optimizer, step_size=1, gamma=0.1)\n",
    "\n",
    "loss_function = nn.BCEWithLogitsLoss()\n",
    "\n",
    "# Check for GPU availability\n",
    "device = torch.device(\"cuda\" if torch.cuda.is_available() else \"cpu\")\n",
    "model.to(device)  # Move model to GPU\n",
    "\n",
    "# Training loop\n",
    "def train_model(model, train_loader, optimizer, loss_function, scheduler, epochs=1):\n",
    "    model.train()\n",
    "    \n",
    "    for epoch in range(epochs):\n",
    "        total_loss = 0\n",
    "        loop = tqdm(train_loader, leave=True)\n",
    "        \n",
    "        for batch in loop:\n",
    "            # Move data to device\n",
    "            input_ids = batch[\"input_ids\"].to(device)\n",
    "            attention_mask = batch[\"attention_mask\"].to(device)\n",
    "            labels = batch[\"labels\"].to(device).float()\n",
    "            \n",
    "            # Forward pass\n",
    "            outputs = model(input_ids, attention_mask=attention_mask, labels=labels)\n",
    "            loss = outputs.loss\n",
    "            \n",
    "            # Backward pass\n",
    "            optimizer.zero_grad()\n",
    "            loss.backward()\n",
    "            optimizer.step()\n",
    "            \n",
    "            # Update metrics\n",
    "            total_loss += loss.item()\n",
    "            loop.set_description(f\"Epoch {epoch}\")\n",
    "            loop.set_postfix(loss=loss.item())\n",
    "        \n",
    "        scheduler.step()\n",
    "        print(f\"Epoch {epoch} Loss: {total_loss / len(train_loader)}\")\n",
    "\n",
    "\n",
    "train_loader = DataLoader(train_dataset, batch_size=32, shuffle=True)\n",
    "val_loader = DataLoader(val_dataset, batch_size=32)\n",
    "\n",
    "# Train the model\n",
    "train_model(model, train_loader, optimizer, loss_function, scheduler, epochs=1)\n",
    "\n",
    "# Save the model and tokenizer\n",
    "\n"
   ]
  },
  {
   "cell_type": "code",
   "execution_count": 3,
   "metadata": {},
   "outputs": [
    {
     "data": {
      "text/plain": [
       "('goemotions_bert_finetuned_28/tokenizer_config.json',\n",
       " 'goemotions_bert_finetuned_28/special_tokens_map.json',\n",
       " 'goemotions_bert_finetuned_28/vocab.txt',\n",
       " 'goemotions_bert_finetuned_28/added_tokens.json')"
      ]
     },
     "execution_count": 3,
     "metadata": {},
     "output_type": "execute_result"
    }
   ],
   "source": [
    "model.save_pretrained(\"goemotions_bert_finetuned_28\")\n",
    "tokenizer.save_pretrained(\"goemotions_bert_finetuned_28\")"
   ]
  },
  {
   "cell_type": "code",
   "execution_count": 11,
   "metadata": {},
   "outputs": [
    {
     "name": "stdout",
     "output_type": "stream",
     "text": [
      "F1 Score: 0.3067695152343108\n",
      "Precision: 0.5230141032394783\n",
      "Recall: 0.26706473362086774\n",
      "Accuracy: 0.42167342425359383\n"
     ]
    },
    {
     "name": "stderr",
     "output_type": "stream",
     "text": [
      "/Users/aditya/miniconda3/lib/python3.12/site-packages/sklearn/metrics/_classification.py:1531: UndefinedMetricWarning: Precision is ill-defined and being set to 0.0 in labels with no predicted samples. Use `zero_division` parameter to control this behavior.\n",
      "  _warn_prf(average, modifier, f\"{metric.capitalize()} is\", len(result))\n"
     ]
    }
   ],
   "source": [
    "from sklearn.metrics import accuracy_score, confusion_matrix, ConfusionMatrixDisplay\n",
    "import matplotlib.pyplot as plt\n",
    "# Evaluation function\n",
    "def evaluate_model(model, val_loader):\n",
    "    model.eval()\n",
    "    true_labels = []\n",
    "    predictions = []\n",
    "    \n",
    "    with torch.no_grad():\n",
    "        for batch in val_loader:\n",
    "            input_ids = batch[\"input_ids\"].to(device)\n",
    "            attention_mask = batch[\"attention_mask\"].to(device)\n",
    "            labels = batch[\"labels\"].to(device).float()\n",
    "            \n",
    "            outputs = model(input_ids, attention_mask=attention_mask)\n",
    "            logits = outputs.logits\n",
    "            preds = torch.sigmoid(logits).cpu().numpy() > 0.5\n",
    "            \n",
    "            true_labels.extend(labels.cpu().numpy())\n",
    "            predictions.extend(preds)\n",
    "    \n",
    "    # Compute metrics\n",
    "    \n",
    "    f1 = f1_score(true_labels, predictions, average=\"macro\")\n",
    "    precision = precision_score(true_labels, predictions, average=\"macro\")\n",
    "    recall = recall_score(true_labels, predictions, average=\"macro\")\n",
    "    accuracy = accuracy_score(true_labels, predictions)\n",
    "    print(f\"F1 Score: {f1}\")\n",
    "    print(f\"Precision: {precision}\")\n",
    "    print(f\"Recall: {recall}\")\n",
    "    print(f\"Accuracy: {accuracy}\")\n",
    "    \n",
    "# Evaluate the model\n",
    "evaluate_model(model, val_loader)\n",
    "\n",
    "# Predict function\n",
    "\n"
   ]
  },
  {
   "cell_type": "code",
   "execution_count": 10,
   "metadata": {},
   "outputs": [
    {
     "name": "stdout",
     "output_type": "stream",
     "text": [
      "[[0.07227654 0.01273712 0.00933806 0.01149558 0.04897002 0.02392617\n",
      "  0.00944283 0.02783507 0.02170407 0.00621075 0.01060471 0.00489169\n",
      "  0.00582826 0.39637524 0.00960317 0.02187285 0.00511216 0.46701762\n",
      "  0.04616576 0.00652231 0.02203087 0.01029757 0.01764769 0.01721916\n",
      "  0.0111461  0.01415378 0.05258131 0.05201788]]\n",
      "[[False False False False False False False False False False False False\n",
      "  False False False False False False False False False False False False\n",
      "  False False False False]]\n"
     ]
    }
   ],
   "source": [
    "def predict_emotions(model, tokenizer, text):\n",
    "    model.eval()\n",
    "    inputs = tokenizer(text, return_tensors=\"pt\", padding=True, truncation=True, max_length=128)\n",
    "    inputs = {k: v.to(device) for k, v in inputs.items()}  # Move inputs to GPU\n",
    "    outputs = model(**inputs)\n",
    "    probs = torch.sigmoid(outputs.logits).detach().cpu().numpy()  \n",
    "    print(probs)# Move back to CPU\n",
    "    return probs > 0.5  # Return multi-label predictions\n",
    "\n",
    "# Example prediction\n",
    "text = \"I am so happy and excited!\"\n",
    "predictions = predict_emotions(model, tokenizer, text)\n",
    "print(predictions)"
   ]
  },
  {
   "cell_type": "code",
   "execution_count": null,
   "metadata": {},
   "outputs": [],
   "source": []
  }
 ],
 "metadata": {
  "kernelspec": {
   "display_name": "base",
   "language": "python",
   "name": "python3"
  },
  "language_info": {
   "codemirror_mode": {
    "name": "ipython",
    "version": 3
   },
   "file_extension": ".py",
   "mimetype": "text/x-python",
   "name": "python",
   "nbconvert_exporter": "python",
   "pygments_lexer": "ipython3",
   "version": "3.12.7"
  }
 },
 "nbformat": 4,
 "nbformat_minor": 2
}
